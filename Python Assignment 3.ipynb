{
 "cells": [
  {
   "cell_type": "markdown",
   "metadata": {},
   "source": [
    "### 1.1 : Write a Python Program to implement your own myreduce() function which works exactly like Python's built-in function reduce()"
   ]
  },
  {
   "cell_type": "code",
   "execution_count": 7,
   "metadata": {},
   "outputs": [
    {
     "name": "stdout",
     "output_type": "stream",
     "text": [
      "Output :  None\n",
      "Output :  [1, 2, 3, 4, 5]\n",
      "Output :  3\n",
      "Output :  [1, 2, 3, 4, 5]\n",
      "Output :  ['A', 'B', 'C', 'D']\n",
      "Output :  INeuron\n"
     ]
    }
   ],
   "source": [
    "def my_add(x, y):\n",
    "    return x + y\n",
    "\n",
    "def my_concat(x, y):\n",
    "    return x + y\n",
    "\n",
    "def my_reduce(function, *args):\n",
    "    if len(args) == 0:\n",
    "        return None\n",
    "    \n",
    "    output = args[0]\n",
    "    for i in range(1, len(args)):\n",
    "        output = function(output, args[i])\n",
    "    return output\n",
    "\n",
    "#I have taken different type of examples to understand the reduce function\n",
    "print('Output : ', my_reduce(my_add))\n",
    "print('Output : ', my_reduce(my_add, [1,2,3,4,5]))\n",
    "print('Output : ', my_reduce(lambda a,b: a+b, 1, 2))\n",
    "print('Output : ', my_reduce(lambda a,b: a+b, [1,2,3,4,5]))\n",
    "print('Output : ', my_reduce(my_concat, ['A', 'B', 'C', 'D']))\n",
    "print('Output : ', my_reduce(my_concat, 'I','N','e','u','r','o','n'))"
   ]
  },
  {
   "cell_type": "markdown",
   "metadata": {},
   "source": [
    "### 1.2 : Write a Python program to implement your own myfilter() function which works exactly like Python's built-in function filter()"
   ]
  },
  {
   "cell_type": "code",
   "execution_count": 17,
   "metadata": {},
   "outputs": [
    {
     "name": "stdout",
     "output_type": "stream",
     "text": [
      "Output :  [2, 4, 6, 8]\n",
      "output :  [12, 0, 34, 76, 16]\n",
      "Output :  ['A', 'o', 'i']\n"
     ]
    }
   ],
   "source": [
    "def even(x):\n",
    "    return x%2 == 0\n",
    "\n",
    "def vowel(x):\n",
    "    str='AEIOUaeiou'\n",
    "    return x in str\n",
    "\n",
    "def my_filter(function, sequence):\n",
    "    filteredElements = []\n",
    "    for element in sequence:\n",
    "        if(function(element)):\n",
    "            filteredElements.append(element)\n",
    "    \n",
    "    return filteredElements\n",
    "\n",
    "#Taken example to check filter function\n",
    "print('Output : ', my_filter(even, [1,2,3,4,5,6,7,8]))            \n",
    "print('output : ', my_filter(lambda x: not x%2, [65, 87, 12, 0, 34, 76, 87,13,15,16]))\n",
    "print('Output : ', my_filter(vowel, ['A','x','z','o','i','B','c']))"
   ]
  },
  {
   "cell_type": "markdown",
   "metadata": {},
   "source": [
    "### 2: Implement List comprehensions to produce the following lists.\n",
    "### Write List comprehensions to produce the following Lists\n",
    "\n",
    "['x', 'xx', 'xxx', 'xxxx', 'y', 'yy', 'yyy', 'yyyy', 'z', 'zz', 'zzz', 'zzzz']\n",
    "\n",
    "['x', 'y', 'z', 'xx', 'yy', 'zz', 'xxx', 'yyy', 'zzz', 'xxxx', 'yyyy', 'zzzz']\n",
    "\n",
    "[[2], [3], [4], [3], [4], [5], [4], [5], [6]]\n",
    "\n",
    "[[2, 3, 4, 5], [3, 4, 5, 6], [4, 5, 6, 7], [5, 6, 7, 8]]\n",
    "\n",
    "[(1, 1), (2, 1), (3, 1), (1, 2), (2, 2), (3, 2), (1, 3), (2, 3), (3, 3)]"
   ]
  },
  {
   "cell_type": "code",
   "execution_count": 1,
   "metadata": {},
   "outputs": [
    {
     "name": "stdout",
     "output_type": "stream",
     "text": [
      "['X', 'XX', 'XXX', 'XXXX', 'Y', 'YY', 'YYY', 'YYYY', 'Z', 'ZZ', 'ZZZ', 'ZZZZ']\n",
      "['X', 'Y', 'Z', 'XX', 'YY', 'ZZ', 'XXX', 'YYY', 'ZZZ', 'XXXX', 'YYYY', 'ZZZZ']\n",
      "[[2], [3], [4], [3], [4], [5], [4], [5], [6]]\n",
      "[[2, 3, 4, 5], [3, 4, 5, 6], [4, 5, 6, 7], [5, 6, 7, 8]]\n",
      "[(1, 1), (2, 1), (3, 1), (1, 2), (2, 2), (3, 2), (1, 3), (2, 3), (3, 3)]\n"
     ]
    }
   ],
   "source": [
    "l1 = [x*y for x in 'XYZ' for y in range(1,5)]\n",
    "print(l1)\n",
    "\n",
    "l2 = [y*(int(x)) for x in range(1,5) for y in 'XYZ']\n",
    "print(l2)\n",
    "\n",
    "l3 = [[x+y] for x in range(2,5) for y in range(3)]\n",
    "print(l3)\n",
    "\n",
    "l4 = [[x+y for x in range(2,6)] for y in range(4)]\n",
    "print(l4)\n",
    "\n",
    "l5 = [(y,x) for x in range(1,4) for y in range(1,4)]\n",
    "print(l5)"
   ]
  },
  {
   "cell_type": "code",
   "execution_count": null,
   "metadata": {},
   "outputs": [],
   "source": []
  }
 ],
 "metadata": {
  "kernelspec": {
   "display_name": "Python 3",
   "language": "python",
   "name": "python3"
  },
  "language_info": {
   "codemirror_mode": {
    "name": "ipython",
    "version": 3
   },
   "file_extension": ".py",
   "mimetype": "text/x-python",
   "name": "python",
   "nbconvert_exporter": "python",
   "pygments_lexer": "ipython3",
   "version": "3.7.4"
  }
 },
 "nbformat": 4,
 "nbformat_minor": 2
}
