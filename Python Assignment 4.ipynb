{
 "cells": [
  {
   "cell_type": "markdown",
   "metadata": {},
   "source": [
    "### 1.1 : Write a Python Program(with class concepts) to find the area of the triangle using the below formula.\n",
    "#### area = (s*(s-a)*(s-b)*(s-c)) ** 0.5\n",
    "\n",
    "#### Function to take the length of the sides of triangle from user should be defined in the parent class and function to calculate the area should be defined in subclass."
   ]
  },
  {
   "cell_type": "code",
   "execution_count": 1,
   "metadata": {},
   "outputs": [
    {
     "name": "stdout",
     "output_type": "stream",
     "text": [
      "Enter 1st Side: 3\n",
      "Enter 2nd Side: 4\n",
      "Enter 3rd Side: 5\n",
      "Area of Triangle :  6.0\n"
     ]
    }
   ],
   "source": [
    "class triangle:\n",
    "    def __init__(self, a, b, c):\n",
    "        self.a = a\n",
    "        self.b = b\n",
    "        self.c = c\n",
    "\n",
    "class operation(triangle):\n",
    "    def __init__(self, a, b, c):\n",
    "        super().__init__(a, b, c)\n",
    "        \n",
    "    def find_area(self):\n",
    "        s = (self.a + self.b + self.c)/2\n",
    "        return (s*(s-self.a)*(s-self.b)*(s-self.c)) ** 0.5\n",
    "\n",
    "#Execution starts from here\n",
    "x = int(input('Enter 1st Side: '))\n",
    "y = int(input('Enter 2nd Side: '))\n",
    "z = int(input('Enter 3rd Side: '))\n",
    "\n",
    "op = operation(x, y, z)\n",
    "\n",
    "if x+y > z and y+z >x and z+x > y:\n",
    "    print('Area of Triangle : ', op.find_area())\n",
    "else:\n",
    "    print('Kindly provide valid triangle side length')"
   ]
  },
  {
   "cell_type": "markdown",
   "metadata": {},
   "source": [
    "### 1.2 : Write a function filter_long_words() that takes a list of words and an integer n and returns the list of words that are longer than n."
   ]
  },
  {
   "cell_type": "code",
   "execution_count": 2,
   "metadata": {},
   "outputs": [
    {
     "name": "stdout",
     "output_type": "stream",
     "text": [
      "['Jitendra', 'Sudhanshu']\n"
     ]
    }
   ],
   "source": [
    "def filter_long_words(list, n):\n",
    "    out_list = []\n",
    "    for i in range(len(list)):\n",
    "        if len(list[i]) > n:\n",
    "            out_list.append(list[i])\n",
    "    return out_list\n",
    "\n",
    "#Execution starts from here\n",
    "list = ['Jitendra', 'kumar', 'Rahul', 'Sudhanshu', 'abc']\n",
    "print(filter_long_words(list, 5))"
   ]
  },
  {
   "cell_type": "markdown",
   "metadata": {},
   "source": [
    "### 2.1 : Write a Python program using function concept that maps list of words into a list of integers representing the lengths of the corresponding words.\n",
    "### Hint: ​If a list [ ab,cde,erty] is passed on to the python function output should come as [2,3,4] Here 2,3 and 4 are the lengths of the words in the list."
   ]
  },
  {
   "cell_type": "code",
   "execution_count": 3,
   "metadata": {},
   "outputs": [
    {
     "name": "stdout",
     "output_type": "stream",
     "text": [
      "[8, 5, 5, 3, 9]\n"
     ]
    }
   ],
   "source": [
    "def findLengthOfList(list):\n",
    "    out_list = []\n",
    "    for i in range(len(list)):\n",
    "        out_list.append(len(list[i]))\n",
    "    return out_list\n",
    "\n",
    "#Execution starts from here\n",
    "list = ['Jitendra', 'kumar', 'Rahul', 'you', 'Sudhanshu']\n",
    "print(findLengthOfList(list))"
   ]
  },
  {
   "cell_type": "markdown",
   "metadata": {},
   "source": [
    "### 2.2 : Write a Python function which takes a character (i.e. a string of length 1) and returns True if it is a vowel, False otherwise."
   ]
  },
  {
   "cell_type": "code",
   "execution_count": 4,
   "metadata": {},
   "outputs": [
    {
     "name": "stdout",
     "output_type": "stream",
     "text": [
      "True\n",
      "True\n",
      "False\n"
     ]
    }
   ],
   "source": [
    "def checkVowel(ch):\n",
    "    vowel = 'AaEeIiOoUu'\n",
    "    return ch in vowel\n",
    "\n",
    "#Execution starts from here\n",
    "print(checkVowel('a'))\n",
    "print(checkVowel('A'))\n",
    "print(checkVowel('c'))"
   ]
  },
  {
   "cell_type": "code",
   "execution_count": null,
   "metadata": {},
   "outputs": [],
   "source": []
  }
 ],
 "metadata": {
  "kernelspec": {
   "display_name": "Python 3",
   "language": "python",
   "name": "python3"
  },
  "language_info": {
   "codemirror_mode": {
    "name": "ipython",
    "version": 3
   },
   "file_extension": ".py",
   "mimetype": "text/x-python",
   "name": "python",
   "nbconvert_exporter": "python",
   "pygments_lexer": "ipython3",
   "version": "3.7.4"
  }
 },
 "nbformat": 4,
 "nbformat_minor": 2
}
